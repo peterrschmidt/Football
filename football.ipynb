{
 "cells": [
  {
   "cell_type": "code",
   "execution_count": 1,
   "metadata": {
    "ExecuteTime": {
     "end_time": "2019-07-12T13:04:31.344012Z",
     "start_time": "2019-07-12T13:04:28.091130Z"
    }
   },
   "outputs": [],
   "source": [
    "import pandas as pd\n",
    "import pickle\n",
    "import numpy as np\n",
    "import re\n",
    "from datetime import datetime\n",
    "from dateutil import parser\n",
    "from sklearn import preprocessing\n",
    "import sklearn.model_selection as ms\n",
    "from sklearn import linear_model\n",
    "import sklearn.metrics as sklm\n",
    "import statsmodels.api as sm\n",
    "import numpy.random as nr\n",
    "import matplotlib.pyplot as plt\n",
    "import seaborn as sns\n",
    "import sklearn\n",
    "from sklearn.model_selection import train_test_split\n",
    "from sklearn.model_selection import GridSearchCV\n",
    "\n",
    "from sklearn.preprocessing import StandardScaler\n",
    "from sklearn.decomposition import PCA\n",
    "from sklearn.linear_model import LogisticRegression\n",
    "from sklearn.pipeline import make_pipeline\n",
    "from sklearn.metrics import confusion_matrix\n",
    "\n",
    "from sklearn.svm import SVC\n",
    "from sklearn.metrics import accuracy_score\n",
    "from sklearn.metrics import confusion_matrix\n",
    "\n",
    "pd.set_option(\"display.max_rows\", 500)"
   ]
  },
  {
   "cell_type": "markdown",
   "metadata": {},
   "source": [
    "The function prep_data takes the following inputs:\n",
    "    - player level dataset\n",
    "    - dictionary, which relates the features to be used to lists of lags, which should be constructed for each feature"
   ]
  },
  {
   "cell_type": "code",
   "execution_count": 2,
   "metadata": {},
   "outputs": [],
   "source": [
    "def prep_data(player_df, feats_lags_dict):\n",
    "    \n",
    "    player_df['homeoraway'] = player_df['home'].map({1: 'home', 0: 'away'})\n",
    "\n",
    "    team_vars = ['league', 'season', 'matchid', 'date', 'start_time', 'tackles', 'weekday',\n",
    "             'result', 'goals', 'team_name', 'possession', 'opp_goals', 'homeoraway', 'air_duel_rate', \n",
    "             'dribbles_won', 'pass_succ', 'shots', 'shots_ot']\n",
    "\n",
    "    player_vars = [x for x in player_df.columns if x[:2] == 'p_']\n",
    "\n",
    "    pos_dict = {'GK': 'gk', \n",
    "            'DL': 'd', 'DR': 'd', 'DC': 'd', \n",
    "            'MC': 'm', 'ML': 'm', 'MR': 'm', 'DMC': 'm', 'AMC': 'm', 'AML': 'm', 'AMR': 'm', 'AMC': 'm', 'DML': 'm', 'DMR': 'm',\n",
    "            'FW': 'a', 'FWL': 'a', 'FWR': 'a',\n",
    "            'Sub': 'sub'}\n",
    "    player_df['p_agg_pos'] = player_df.p_position.map(pos_dict)\n",
    "\n",
    "    pos_df = player_df.groupby(['matchid', 'team_name', 'p_agg_pos'])[player_vars].agg(np.mean).unstack()\n",
    "    pos_df.columns = ['_'.join(col).strip() for col in pos_df.columns.values]\n",
    "\n",
    "    team_df = player_df[team_vars].groupby(['matchid', 'team_name']).first()\n",
    "\n",
    "    team_df['result_num'] = team_df['result'].map({'W': 2, 'D': 1, 'L': 0})\n",
    "    team_df['win'] = team_df.groupby(['team_name', 'season'])['result_num'].apply(lambda x: x == 2)*1\n",
    "    team_df['draw'] = team_df.groupby(['team_name', 'season'])['result_num'].apply(lambda x: x == 1)*1\n",
    "\n",
    "    prev_wins = team_df.groupby(['team_name', 'season'])['win'].transform(lambda x: x.cumsum())\n",
    "    nr_games = team_df.groupby(['team_name', 'season']).cumcount() + 1\n",
    "    team_df['win_pct'] = prev_wins/nr_games\n",
    "\n",
    "    team_df_t = pd.concat([team_df, pos_df], axis = 1)\n",
    "    team_df_t.reset_index(drop = False, inplace = True)\n",
    "    team_df_t.sort_values('date', inplace = True)\n",
    "    \n",
    "    est_table = pd.DataFrame(team_df_t[['matchid', 'league', 'season', 'homeoraway', 'team_name', 'result_num', \n",
    "                                        'date', 'goals']])\n",
    "\n",
    "    for feat in feats_lags_dict.keys():\n",
    "        for lag in feats_lags_dict[feat]:\n",
    "            est_table[feat + '_lag_' + str(lag)] = get_lagged_feature(lag, feat, team_df_t)        \n",
    "\n",
    "    est_table.set_index(['matchid', 'homeoraway'], inplace = True, drop = True)\n",
    "    match_df = est_table.unstack('homeoraway')\n",
    "    match_df.columns = ['_'.join(col).strip() for col in match_df.columns.values]\n",
    "    match_df.reset_index(drop = False, inplace = True)\n",
    "    \n",
    "    feature_list = [feat for feat in match_df.columns if '_lag_' in feat]\n",
    "    mask = ~ match_df[feature_list].isnull().any(axis=1)\n",
    "\n",
    "    features = np.array(match_df[mask][feature_list])\n",
    "    labels = np.array(match_df[mask]['result_num_home'])\n",
    "    \n",
    "    match_df['date'] = match_df['date_home']\n",
    "    match_df['league'] = match_df['league_home']\n",
    "    match_df['season'] = match_df['season_home']\n",
    "    \n",
    "    meta_data_vars = ['matchid', 'team_name_away', 'team_name_home', 'date', \n",
    "                      'result_num_home', 'goals_home', 'goals_away', 'season', 'league']\n",
    "    \n",
    "    meta_data = pd.DataFrame(match_df[mask][meta_data_vars])\n",
    "    \n",
    "    return features, labels, meta_data"
   ]
  },
  {
   "cell_type": "code",
   "execution_count": 3,
   "metadata": {},
   "outputs": [],
   "source": [
    "def get_lagged_feature(lag, feat, team_data):\n",
    "    grouped = team_data.groupby(['team_name', 'season'])\n",
    "    lagged_feat = grouped[feat].transform(lambda x: x.shift(lag))\n",
    "    lagged_feat.name = feat + '_lag_' + str(lag)\n",
    "    return lagged_feat"
   ]
  },
  {
   "cell_type": "code",
   "execution_count": 4,
   "metadata": {},
   "outputs": [],
   "source": [
    "def eval_model(league, y_test, y_pred, labels = [2, 1, 0]):\n",
    "    conf = confusion_matrix(y_test, y_pred, labels = [2, 1, 0])\n",
    "    print(league)\n",
    "    print(conf)\n",
    "    print('Overall Accuracy: ' + str(np.round(accuracy_score(y_test, y_pred),3)))\n",
    "    print('\\n')\n",
    "    print('Home Win Accuracy: ' + str(np.round(conf[0][0]/conf[0].sum(),3)))\n",
    "    print('Draw Accuracy: ' + str(np.round(conf[1][1]/conf[1].sum(),3)))\n",
    "    print('Away Win Accuracy: ' + str(np.round(conf[2][2]/conf[2].sum(),3)))\n",
    "    print('\\n')\n",
    "    print('Number of Features used: ' + str(features.shape[1]))\n",
    "    print('\\n')"
   ]
  },
  {
   "cell_type": "code",
   "execution_count": 7,
   "metadata": {},
   "outputs": [],
   "source": [
    "def calc_return(pred_probs, betting_odds, betting_cutoff, true_results):\n",
    "\n",
    "    diff_probs = pred_probs - 1/betting_odds\n",
    "\n",
    "    betting_mask = diff_probs > betting_cutoff\n",
    "    nr_bets = betting_mask.sum()\n",
    "\n",
    "    if nr_bets > 0:\n",
    "        revenue = ((np.array(true_results)[betting_mask] == 2)*betting_odds[betting_mask]).sum()\n",
    "        roi = (revenue - nr_bets)*100/nr_bets\n",
    "        \n",
    "        return roi, nr_bets/len(pred_probs)\n",
    "    else:\n",
    "        return np.nan, np.nan"
   ]
  },
  {
   "cell_type": "markdown",
   "metadata": {},
   "source": [
    "# Load Data"
   ]
  },
  {
   "cell_type": "code",
   "execution_count": 10,
   "metadata": {
    "ExecuteTime": {
     "end_time": "2019-07-12T13:04:32.489381Z",
     "start_time": "2019-07-12T13:04:31.361003Z"
    }
   },
   "outputs": [],
   "source": [
    "df = pickle.load(open(\"player_level.pckl\", \"rb\"))"
   ]
  },
  {
   "cell_type": "code",
   "execution_count": 20,
   "metadata": {},
   "outputs": [
    {
     "data": {
      "image/png": "[encoded data removed]",
      "text/plain": [
       "<Figure size 432x288 with 2 Axes>"
      ]
     },
     "metadata": {
      "needs_background": "light"
     },
     "output_type": "display_data"
    }
   ],
   "source": [
    "feats_lags_dict = {'win_pct': [1], 'win': [1,2,3], 'goals': [1,2,3], 'opp_goals': [1,2,3]}\n",
    "cutoff_date = '2018-08-01'\n",
    "leagues = ['prem_league']\n",
    "league = leagues[0]\n",
    "\n",
    "train_test_df = pd.DataFrame(df.loc[(df.league == league) & (df.date < cutoff_date)])\n",
    "eval_df = pd.DataFrame(df.loc[(df.league == league) & (df.date > cutoff_date)])\n",
    "\n",
    "features, labels, meta_data = prep_data(train_test_df, feats_lags_dict)\n",
    "features_eval, labels_eval, meta_data_eval = prep_data(eval_df, feats_lags_dict)\n",
    "\n",
    "X_train, X_test, y_train, y_test = train_test_split(features, labels, test_size=0.2, stratify=labels) \n",
    "\n",
    "pipe_lr = make_pipeline(StandardScaler(), \n",
    "                        #PCA(25),\n",
    "                        LogisticRegression(multi_class = 'auto', solver = 'lbfgs')\n",
    "                        ) \n",
    "\n",
    "pipe_lr.fit(X_train, y_train)\n",
    "y_pred = pipe_lr.predict(X_test)\n",
    "\n",
    "#eval_model(league, y_test, y_pred, labels = [2, 1, 0])\n",
    "\n",
    "logreg = pipe_lr.named_steps['logisticregression']\n",
    "pred_probs = logreg.predict_proba(features_eval)\n",
    "\n",
    "team_dict = {'Man City': 'Manchester City', 'Man United': 'Manchester United', 'West Brom': 'West Bromwich Albion',\n",
    "             'QPR': 'Queens Park Rangers', 'Wolves': 'Wolverhampton Wanderers', 'Newcastle': 'Newcastle United',\n",
    "             'Milan': 'AC Milan', 'Siena': 'Robur Siena',\n",
    "             'Dortmund': 'Borussia Dortmund', 'Hertha': 'Hertha Berlin', 'Mainz': 'Mainz 05', 'Nurnberg': 'Nuernberg',\n",
    "             'Ein Frankfurt': 'Eintracht Frankfurt', 'FC Koln': 'FC Cologne', 'Hamburg': 'Hamburger SV', \n",
    "             'Hannover': 'Hannover 96', 'Leverkusen': 'Bayer Leverkusen', 'Stuttgart': 'VfB Stuttgart', \n",
    "             \"M'gladbach\": 'Borussia M.Gladbach', 'Greuther Furth': 'Greuther Fuerth', \n",
    "             'Fortuna Dusseldorf': 'Fortuna Duesseldorf', 'Braunschweig': 'Eintracht Braunschweig',\n",
    "             'RB Leipzig': 'RasenBallsport Leipzig'}\n",
    "\n",
    "odds_vars = ['B365H', 'B365D', 'B365A']\n",
    "meta_data_odds = ['league', 'season', 'team_name_home', 'team_name_away']\n",
    "\n",
    "odds_df = pd.DataFrame()\n",
    "\n",
    "for season_odds in meta_data_eval.season.unique():\n",
    "\n",
    "    temp_df = pd.read_csv(\n",
    "        'C:/Users/peter/Google Drive/Football/odds_data/' + league + '_' + season_odds + '.csv', index_col=False)\n",
    "\n",
    "    temp_df['league'] = league\n",
    "    temp_df['season'] = season_odds\n",
    "\n",
    "    temp_df['team_name_home'] = temp_df.HomeTeam.map(team_dict).fillna(temp_df['HomeTeam'])\n",
    "    temp_df['team_name_away'] = temp_df.AwayTeam.map(team_dict).fillna(temp_df['AwayTeam'])\n",
    "\n",
    "    temp_df.dropna(axis = 0, how = 'any', inplace = True)\n",
    "\n",
    "    odds_df = odds_df.append(temp_df[meta_data_odds + odds_vars], sort = False)\n",
    "\n",
    "merged_df = meta_data_eval.merge(odds_df, how = 'left', on = ['league', 'season', 'team_name_home', 'team_name_away'])\n",
    "\n",
    "for var in odds_vars:\n",
    "    merged_df[var + '_prob'] = 1/merged_df[var]\n",
    "\n",
    "x = np.arange(0,0.4,0.005)\n",
    "\n",
    "roi = [calc_return(pred_probs[:,2], merged_df['B365H'], y, meta_data_eval.result_num_home)[0] for y in x]\n",
    "perc_bet = [calc_return(pred_probs[:,2], merged_df['B365H'], y, meta_data_eval.result_num_home)[1] for y in x]\n",
    "\n",
    "fig, ax1 = plt.subplots()\n",
    "\n",
    "color = 'tab:red'\n",
    "ax1.set_xlabel('Betting Cutoff')\n",
    "ax1.set_ylabel('ROI in %', color=color)\n",
    "ax1.plot(x, roi, color=color)\n",
    "ax1.tick_params(axis='y', labelcolor=color)\n",
    "ax1.plot(x, [0]*len(x), color = color, linestyle = '--')\n",
    "\n",
    "ax2 = ax1.twinx()\n",
    "\n",
    "color = 'tab:blue'\n",
    "ax2.set_ylabel('% of Games with Bet', color=color)\n",
    "ax2.plot(x, perc_bet, color=color)\n",
    "ax2.tick_params(axis='y', labelcolor=color)\n",
    "\n",
    "fig.tight_layout()\n",
    "plt.show()"
   ]
  },
  {
   "cell_type": "markdown",
   "metadata": {},
   "source": [
    "# Grid Search"
   ]
  },
  {
   "cell_type": "code",
   "execution_count": 164,
   "metadata": {},
   "outputs": [
    {
     "name": "stdout",
     "output_type": "stream",
     "text": [
      "1 lags used.\n",
      "0.49586492074431426\n",
      "{'logisticregression__C': 0.0005, 'pca__n_components': 12}\n",
      "\n",
      "\n",
      "2 lags used.\n",
      "0.508694109297374\n",
      "{'logisticregression__C': 0.01, 'pca__n_components': 20}\n",
      "\n",
      "\n",
      "3 lags used.\n",
      "0.5109609061015711\n",
      "{'logisticregression__C': 0.001, 'pca__n_components': 30}\n",
      "\n",
      "\n",
      "4 lags used.\n",
      "0.5143126177024482\n",
      "{'logisticregression__C': 0.0005, 'pca__n_components': 40}\n",
      "\n",
      "\n",
      "5 lags used.\n",
      "0.5199145133087235\n",
      "{'logisticregression__C': 0.0001, 'pca__n_components': 25}\n",
      "\n",
      "\n",
      "6 lags used.\n",
      "0.5197592778335005\n",
      "{'logisticregression__C': 0.001, 'pca__n_components': 15}\n",
      "\n",
      "\n",
      "7 lags used.\n",
      "0.522289031722994\n",
      "{'logisticregression__C': 1, 'pca__n_components': 30}\n",
      "\n",
      "\n",
      "8 lags used.\n",
      "0.5216831258050666\n",
      "{'logisticregression__C': 0.0005, 'pca__n_components': 20}\n",
      "\n",
      "\n",
      "9 lags used.\n",
      "0.5244553134726545\n",
      "{'logisticregression__C': 0.05, 'pca__n_components': 30}\n",
      "\n",
      "\n",
      "10 lags used.\n",
      "0.5213477959843065\n",
      "{'logisticregression__C': 0.5, 'pca__n_components': 25}\n",
      "\n",
      "\n",
      "11 lags used.\n",
      "0.5220623501199041\n",
      "{'logisticregression__C': 0.0005, 'pca__n_components': 40}\n",
      "\n",
      "\n",
      "12 lags used.\n",
      "0.5250685956597655\n",
      "{'logisticregression__C': 0.0001, 'pca__n_components': 15}\n",
      "\n",
      "\n",
      "13 lags used.\n",
      "0.5267810712428497\n",
      "{'logisticregression__C': 0.0005, 'pca__n_components': 40}\n",
      "\n",
      "\n",
      "14 lags used.\n",
      "0.5285016286644951\n",
      "{'logisticregression__C': 0.1, 'pca__n_components': 25}\n",
      "\n",
      "\n"
     ]
    }
   ],
   "source": [
    "    param_grid = {'logisticregression__C': [0.00001, 0.00005, 0.0001, 0.0005, 0.001, 0.005, 0.01, 0.05, 0.1, 0.5,1],\n",
    "                  'pca__n_components': [3,5,8,10,12,15,20,25,30,40,50]}\n",
    "    \n",
    "    gs = GridSearchCV(estimator = pipe_lr,\n",
    "                      param_grid = param_grid,\n",
    "                      scoring = 'accuracy',\n",
    "                      cv = 10,\n",
    "                      n_jobs = -1)\n",
    "    \n",
    "    gs = gs.fit(X_train, y_train)\n",
    "    \n",
    "    print(str(lagloop) + ' lags used.')\n",
    "    print(gs.best_score_)\n",
    "    print(gs.best_params_)\n",
    "    print('\\n')"
   ]
  },
  {
   "cell_type": "code",
   "execution_count": 102,
   "metadata": {},
   "outputs": [
    {
     "name": "stdout",
     "output_type": "stream",
     "text": [
      "Largest predicted probability for away win with 41.0%:\n",
      "\n",
      "\n",
      "    team_name_home team_name_away  goals_home  goals_away  result_num_home\n",
      "103         Fulham      Liverpool           1           2                0\n",
      "\n",
      "\n",
      "\n",
      "\n",
      "Largest predicted probability for draw with 49.8%:\n",
      "\n",
      "\n",
      "   team_name_home   team_name_away  goals_home  goals_away  result_num_home\n",
      "55    Bournemouth  Manchester City           0           1                0\n",
      "\n",
      "\n",
      "\n",
      "\n",
      "Largest predicted probability for home win with 81.0%:\n",
      "\n",
      "\n",
      "   team_name_home team_name_away  goals_home  goals_away  result_num_home\n",
      "32      Tottenham       Brighton           1           0                2\n",
      "\n",
      "\n",
      "\n",
      "\n"
     ]
    }
   ],
   "source": [
    "\n",
    "\n",
    "eval_meta_vars = ['team_name_home', 'team_name_away', 'goals_home', 'goals_away', 'result_num_home']\n",
    "\n",
    "for outcome_idx, outcome in enumerate(['away win', 'draw', 'home win']):\n",
    "    prob = pred_probs[:,outcome_idx].max()\n",
    "    prob_idx = np.where(pred_probs[:,outcome_idx] == prob)\n",
    "    print('Largest predicted probability for ' + outcome + ' with ' + str(np.round(prob, 3)*100) + '%:')\n",
    "    print('\\n')\n",
    "    print(meta_data_eval.iloc[prob_idx][eval_meta_vars])\n",
    "    print('\\n')\n",
    "    print('\\n')"
   ]
  }
 ],
 "metadata": {
  "hide_input": false,
  "kernelspec": {
   "display_name": "Python 3",
   "language": "python",
   "name": "python3"
  },
  "language_info": {
   "codemirror_mode": {
    "name": "ipython",
    "version": 3
   },
   "file_extension": ".py",
   "mimetype": "text/x-python",
   "name": "python",
   "nbconvert_exporter": "python",
   "pygments_lexer": "ipython3",
   "version": "3.7.4"
  },
  "toc": {
   "base_numbering": 1,
   "nav_menu": {},
   "number_sections": false,
   "sideBar": true,
   "skip_h1_title": false,
   "title_cell": "Table of Contents",
   "title_sidebar": "Contents",
   "toc_cell": false,
   "toc_position": {
    "height": "calc(100% - 180px)",
    "left": "10px",
    "top": "150px",
    "width": "360px"
   },
   "toc_section_display": true,
   "toc_window_display": false
  },
  "varInspector": {
   "cols": {
    "lenName": 16,
    "lenType": 16,
    "lenVar": 40
   },
   "kernels_config": {
    "python": {
     "delete_cmd_postfix": "",
     "delete_cmd_prefix": "del ",
     "library": "var_list.py",
     "varRefreshCmd": "print(var_dic_list())"
    },
    "r": {
     "delete_cmd_postfix": ") ",
     "delete_cmd_prefix": "rm(",
     "library": "var_list.r",
     "varRefreshCmd": "cat(var_dic_list()) "
    }
   },
   "position": {
    "height": "688px",
    "left": "1546px",
    "right": "20px",
    "top": "125px",
    "width": "350px"
   },
   "types_to_exclude": [
    "module",
    "function",
    "builtin_function_or_method",
    "instance",
    "_Feature"
   ],
   "window_display": true
  }
 },
 "nbformat": 4,
 "nbformat_minor": 2
}
