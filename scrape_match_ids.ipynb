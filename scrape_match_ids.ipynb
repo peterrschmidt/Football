{
 "cells": [
  {
   "cell_type": "code",
   "execution_count": 1,
   "metadata": {
    "ExecuteTime": {
     "end_time": "2019-07-12T14:25:10.301698Z",
     "start_time": "2019-07-12T14:25:09.742987Z"
    }
   },
   "outputs": [],
   "source": [
    "from selenium import webdriver\n",
    "import time\n",
    "import pickle\n",
    "import pandas as pd\n",
    "from selenium.common.exceptions import NoSuchElementException\n",
    "from datetime import datetime\n",
    "import numpy as np\n",
    "from selenium.webdriver.chrome.options import Options"
   ]
  },
  {
   "cell_type": "code",
   "execution_count": 9,
   "metadata": {
    "ExecuteTime": {
     "end_time": "2019-07-12T14:25:10.316653Z",
     "start_time": "2019-07-12T14:25:10.310665Z"
    }
   },
   "outputs": [],
   "source": [
    "chrome_options = webdriver.ChromeOptions()\n",
    "chrome_options.add_experimental_option(\"prefs\", {\"profile.managed_default_content_settings.images\":2})\n",
    "chrome_options.add_experimental_option(\"prefs\", {\"profile.default_content_settings.cookies\": 2})\n",
    "chrome_options.add_experimental_option(\"prefs\", {\"profile.default_content_settings.popups\": 1})\n",
    "#chrome_options.add_extension('C:/Users/Peter/Anaconda3/selenium/webdriver/AdBlock_v3.49.1.crx')\n",
    "\n",
    "#path_to_chromedriver = \"C:/Users/Schmidt\\Anaconda3\\selenium\\webdriver\\chromedriver.exe\"\n",
    "path_to_chromedriver = \"C:/Users/Peter\\Anaconda3\\selenium\\webdriver\\chromedriver.exe\""
   ]
  },
  {
   "cell_type": "markdown",
   "metadata": {},
   "source": [
    "# Get Match IDs"
   ]
  },
  {
   "cell_type": "code",
   "execution_count": 3,
   "metadata": {
    "ExecuteTime": {
     "end_time": "2019-07-12T14:25:10.587990Z",
     "start_time": "2019-07-12T14:25:10.583994Z"
    }
   },
   "outputs": [],
   "source": [
    "def check_game_exists(idx):\n",
    "    try:\n",
    "        browser.find_element_by_xpath('//*[@id=\"tournament-fixture\"]/tbody/tr[' + str(idx) + ']')\n",
    "    except NoSuchElementException:\n",
    "        return False\n",
    "    return True"
   ]
  },
  {
   "cell_type": "code",
   "execution_count": 10,
   "metadata": {
    "ExecuteTime": {
     "end_time": "2019-07-12T14:25:11.333476Z",
     "start_time": "2019-07-12T14:25:11.192568Z"
    }
   },
   "outputs": [],
   "source": [
    "browser = webdriver.Chrome(executable_path=path_to_chromedriver, chrome_options=chrome_options)\n",
    "url = \"https://www.whoscored.com/\"\n",
    "\n",
    "browser.get(url)"
   ]
  },
  {
   "cell_type": "code",
   "execution_count": 11,
   "metadata": {},
   "outputs": [],
   "source": [
    "match_ids = pickle.load(open('match_ids.pckl', 'rb'))"
   ]
  },
  {
   "cell_type": "code",
   "execution_count": 60,
   "metadata": {},
   "outputs": [
    {
     "name": "stdout",
     "output_type": "stream",
     "text": [
      "306\n"
     ]
    }
   ],
   "source": [
    "temp_ids = []\n",
    "\n",
    "bl_nr_games = 306\n",
    "other_nr_games = 380\n",
    "\n",
    "while len(set(temp_ids)) < bl_nr_games:\n",
    "    idx = 1\n",
    "    \n",
    "    while check_game_exists(idx):\n",
    "        temp = browser.find_element_by_xpath(\n",
    "            '//*[@id=\"tournament-fixture\"]/tbody/tr[' + str(idx) + ']').get_attribute(\"data-id\")\n",
    "        if not temp == None:\n",
    "            temp_ids.append(temp)\n",
    "        idx = idx + 1\n",
    "\n",
    "    browser.find_element_by_xpath('//*[@id=\"date-controller\"]/a[3]/span').click()\n",
    "    time.sleep(0.8)\n",
    "\n",
    "print(len(set(temp_ids)))"
   ]
  },
  {
   "cell_type": "code",
   "execution_count": 62,
   "metadata": {},
   "outputs": [],
   "source": [
    "match_ids['superlig']['18_19'] = temp_ids\n",
    "\n",
    "f = open('match_ids.pckl', 'wb')\n",
    "pickle.dump(match_ids, f)\n",
    "f.close()"
   ]
  }
 ],
 "metadata": {
  "hide_input": false,
  "kernelspec": {
   "display_name": "Python 3",
   "language": "python",
   "name": "python3"
  },
  "language_info": {
   "codemirror_mode": {
    "name": "ipython",
    "version": 3
   },
   "file_extension": ".py",
   "mimetype": "text/x-python",
   "name": "python",
   "nbconvert_exporter": "python",
   "pygments_lexer": "ipython3",
   "version": "3.6.8"
  },
  "toc": {
   "base_numbering": 1,
   "nav_menu": {},
   "number_sections": true,
   "sideBar": true,
   "skip_h1_title": false,
   "title_cell": "Table of Contents",
   "title_sidebar": "Contents",
   "toc_cell": false,
   "toc_position": {},
   "toc_section_display": true,
   "toc_window_display": false
  },
  "varInspector": {
   "cols": {
    "lenName": 16,
    "lenType": 16,
    "lenVar": 40
   },
   "kernels_config": {
    "python": {
     "delete_cmd_postfix": "",
     "delete_cmd_prefix": "del ",
     "library": "var_list.py",
     "varRefreshCmd": "print(var_dic_list())"
    },
    "r": {
     "delete_cmd_postfix": ") ",
     "delete_cmd_prefix": "rm(",
     "library": "var_list.r",
     "varRefreshCmd": "cat(var_dic_list()) "
    }
   },
   "position": {
    "height": "516px",
    "left": "1550px",
    "right": "20px",
    "top": "121px",
    "width": "350px"
   },
   "types_to_exclude": [
    "module",
    "function",
    "builtin_function_or_method",
    "instance",
    "_Feature"
   ],
   "window_display": true
  }
 },
 "nbformat": 4,
 "nbformat_minor": 2
}
