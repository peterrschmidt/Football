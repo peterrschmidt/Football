{
 "cells": [
  {
   "cell_type": "code",
   "execution_count": 1,
   "metadata": {
    "ExecuteTime": {
     "end_time": "2019-07-12T15:28:10.526104Z",
     "start_time": "2019-07-12T15:28:08.629088Z"
    }
   },
   "outputs": [],
   "source": [
    "import pandas as pd\n",
    "import pickle\n",
    "import numpy as np\n",
    "import re\n",
    "from datetime import datetime\n",
    "from dateutil import parser\n",
    "from sklearn import preprocessing\n",
    "import sklearn.model_selection as ms\n",
    "from sklearn import linear_model\n",
    "import sklearn.metrics as sklm\n",
    "import statsmodels.api as sm\n",
    "import numpy.random as nr\n",
    "import matplotlib.pyplot as plt\n",
    "import seaborn as sns"
   ]
  },
  {
   "cell_type": "code",
   "execution_count": null,
   "metadata": {},
   "outputs": [],
   "source": [
    "df.reset_index(inplace = True, drop = True)\n",
    "\n",
    "df['date'] = pd.DatetimeIndex(pd.to_datetime(df.date))\n",
    "\n",
    "df.set_index(['teams', 'date'], inplace = True)\n",
    "df.sort_index(inplace = True)\n",
    "\n",
    "df['home_goals'] = np.nan\n",
    "df['away_goals'] = np.nan\n",
    "\n",
    "df.loc[df.p_home == 1, 'home_goals'] = df.loc[df.p_home == 1, 'team_goals']\n",
    "df.loc[df.p_home == 0, 'away_goals'] = df.loc[df.p_home == 0, 'team_goals']\n",
    "\n",
    "df['away_goals'] = df.groupby(['league', 'season', 'match_number'])['away_goals'].transform('max')\n",
    "df['home_goals'] = df.groupby(['league', 'season', 'match_number'])['home_goals'].transform('max')\n",
    "\n",
    "df.loc[df.p_home == 1, 'opp_goals'] = df.loc[df.p_home == 1, 'away_goals']\n",
    "df.loc[df.p_home == 0, 'opp_goals'] = df.loc[df.p_home == 0, 'home_goals']\n",
    "\n",
    "df['win'] = 0\n",
    "df['loss'] = 0\n",
    "\n",
    "df.loc[df.results == 'W', 'win'] = 1\n",
    "df.loc[df.results == 'L', 'loss'] = 1"
   ]
  },
  {
   "cell_type": "code",
   "execution_count": null,
   "metadata": {},
   "outputs": [],
   "source": [
    "pickle.dump(df, open(\"player_level.pckl\", \"wb\" ) )"
   ]
  },
  {
   "cell_type": "markdown",
   "metadata": {},
   "source": [
    "# Merge with old data"
   ]
  },
  {
   "cell_type": "code",
   "execution_count": 2,
   "metadata": {
    "ExecuteTime": {
     "end_time": "2019-07-12T15:28:31.973849Z",
     "start_time": "2019-07-12T15:28:31.387199Z"
    }
   },
   "outputs": [
    {
     "name": "stderr",
     "output_type": "stream",
     "text": [
      "C:\\Users\\Schmidt\\Anaconda3\\lib\\site-packages\\pandas\\core\\indexes\\base.py:162: FutureWarning: the 'labels' keyword is deprecated, use 'codes' instead\n",
      "  return cls.__new__(cls, **d)\n"
     ]
    }
   ],
   "source": [
    "old_df = pickle.load(open('player_level_old.pckl', 'rb'))"
   ]
  },
  {
   "cell_type": "code",
   "execution_count": 5,
   "metadata": {
    "ExecuteTime": {
     "end_time": "2019-07-12T15:29:05.549259Z",
     "start_time": "2019-07-12T15:29:05.529284Z"
    }
   },
   "outputs": [
    {
     "data": {
      "text/plain": [
       "array(['Serie_A', 'Premier League', 'Bundesliga'], dtype=object)"
      ]
     },
     "execution_count": 5,
     "metadata": {},
     "output_type": "execute_result"
    }
   ],
   "source": [
    "old_df.league.unique()"
   ]
  },
  {
   "cell_type": "code",
   "execution_count": 6,
   "metadata": {
    "ExecuteTime": {
     "end_time": "2019-07-12T15:29:12.461005Z",
     "start_time": "2019-07-12T15:29:12.393043Z"
    }
   },
   "outputs": [
    {
     "data": {
      "text/plain": [
       "array(['11_12', '12_13', '13_14', '14_15', '15_16', '16_17', '09_10',\n",
       "       '10_11'], dtype=object)"
      ]
     },
     "execution_count": 6,
     "metadata": {},
     "output_type": "execute_result"
    }
   ],
   "source": [
    "old_df.loc[old_df.league == 'Bundesliga', 'season'].unique()"
   ]
  },
  {
   "cell_type": "code",
   "execution_count": null,
   "metadata": {},
   "outputs": [],
   "source": [
    "columns_to_drop = ['p_sub_out',\n",
    " 'p_penalty_missed_times',\n",
    " 'team_goals',\n",
    " 'p_away',\n",
    " 'win',\n",
    " 'p_assist_times',\n",
    " 'p_home',\n",
    " 'p_started_game',\n",
    " 'p_error_times',\n",
    " 'p_event',\n",
    " 'home_goals',\n",
    " 'p_team',\n",
    " 'p_yellow_card_times',\n",
    " 'match_number',\n",
    " 'p_own_goal_times',\n",
    " 'p_sub_in',\n",
    " 'loss',\n",
    " 'opp_goals',\n",
    " 'p_tackle_last_man_times',\n",
    " 'p_index',\n",
    " 'p_event_times',\n",
    " 'p_red_card_time',\n",
    " 'p_opponent',\n",
    " 'p_goal_times',\n",
    " 'p_penalty_saved_times',\n",
    " 'away_goals',\n",
    " 'p_post_crossbar_times']\n",
    "\n",
    "old_df.drop(columns_to_drop, axis = 1, inplace = True)\n",
    "\n",
    "rename_dict = {'p_clearances': 'p_clears', 'p_long_ball': 'p_long_balls', 'p_dispossessed': 'p_disp', \n",
    "               'p_clear_off_line': 'p_clears_off_line', 'p_acc': 'p_pass_acc', 'p_blocked_shots': 'p_blocks',\n",
    "               'p_acc_through_ball': 'p_acc_through_balls', 'p_minutes_played': 'p_min_played', 'p_error': 'p_errors',\n",
    "               'p_tackle_last_man': 'p_tackles_last_man', 'p_through_ball': 'p_through_balls',\n",
    "               'p_bad_control': 'p_turnovers', 'p_acc_long_ball': 'p_acc_long_balls', 'p_bad_control': 'p_bad_controls',\n",
    "               'p_results': 'p_result', }\n",
    "\n",
    "old_df.rename(index = str, columns = rename_dict, inplace = True)\n",
    "\n",
    "list(set(old_df.columns) - set(df.columns))\n",
    "\n",
    "list(set(df.columns) - set(old_df.columns))"
   ]
  }
 ],
 "metadata": {
  "hide_input": false,
  "kernelspec": {
   "display_name": "Python 3",
   "language": "python",
   "name": "python3"
  },
  "language_info": {
   "codemirror_mode": {
    "name": "ipython",
    "version": 3
   },
   "file_extension": ".py",
   "mimetype": "text/x-python",
   "name": "python",
   "nbconvert_exporter": "python",
   "pygments_lexer": "ipython3",
   "version": "3.7.4"
  },
  "toc": {
   "base_numbering": 1,
   "nav_menu": {},
   "number_sections": true,
   "sideBar": true,
   "skip_h1_title": false,
   "title_cell": "Table of Contents",
   "title_sidebar": "Contents",
   "toc_cell": false,
   "toc_position": {},
   "toc_section_display": true,
   "toc_window_display": false
  },
  "varInspector": {
   "cols": {
    "lenName": 16,
    "lenType": 16,
    "lenVar": 40
   },
   "kernels_config": {
    "python": {
     "delete_cmd_postfix": "",
     "delete_cmd_prefix": "del ",
     "library": "var_list.py",
     "varRefreshCmd": "print(var_dic_list())"
    },
    "r": {
     "delete_cmd_postfix": ") ",
     "delete_cmd_prefix": "rm(",
     "library": "var_list.r",
     "varRefreshCmd": "cat(var_dic_list()) "
    }
   },
   "types_to_exclude": [
    "module",
    "function",
    "builtin_function_or_method",
    "instance",
    "_Feature"
   ],
   "window_display": true
  }
 },
 "nbformat": 4,
 "nbformat_minor": 4
}
